{
 "cells": [
  {
   "cell_type": "markdown",
   "metadata": {},
   "source": [
    "# Facemask Detection Datathon"
   ]
  },
  {
   "cell_type": "markdown",
   "metadata": {},
   "source": [
    "## Importing data science libraries"
   ]
  },
  {
   "cell_type": "code",
   "execution_count": 45,
   "metadata": {},
   "outputs": [],
   "source": [
    "# import the necessary packages\n",
    "import os                    # OS module in Python provides a way of using operating system dependent functionality\n",
    "import pandas as pd          # Data analysis and manipultion tool\n",
    "import numpy as np           # Fundamental package for linear algebra and multidimensional arrays\n",
    "import matplotlib.pyplot as plt   # for visualization\n",
    "import cv2                        # Library for image processing\n",
    "import argparse\n",
    "from imutils import paths\n",
    "from tqdm.notebook import tqdm # widget progress bar\n",
    "# Scikit-learn utils..\n",
    "from sklearn.preprocessing import LabelBinarizer\n",
    "from sklearn.metrics import classification_report\n",
    "from sklearn.utils import class_weight, shuffle\n",
    "from sklearn.model_selection import train_test_split    # For splitting the data into train and validation set\n",
    "\n",
    "#Deep Learning Tool\n",
    "from tensorflow.keras.preprocessing.image import ImageDataGenerator\n",
    "from keras.models import Sequential\n",
    "from keras import models  \n",
    "from keras.models import load_model\n",
    "from keras.layers.convolutional import Conv2D\n",
    "from keras.layers import Activation\n",
    "from tensorflow.keras.applications import MobileNetV2\n",
    "from tensorflow.keras.layers import AveragePooling2D\n",
    "from tensorflow.keras.layers import MaxPooling2D\n",
    "from tensorflow.keras.layers import Dropout\n",
    "from tensorflow.keras.layers import Flatten\n",
    "from tensorflow.keras.layers import Dense\n",
    "from tensorflow.keras.layers import Input\n",
    "from tensorflow.keras.models import Model\n",
    "from tensorflow.keras.optimizers import Adam\n",
    "from tensorflow.keras.applications.mobilenet_v2 import preprocess_input\n",
    "from tensorflow.keras.preprocessing.image import img_to_array\n",
    "from tensorflow.keras.preprocessing.image import load_img\n",
    "from tensorflow.keras.utils import to_categorical"
   ]
  },
  {
   "cell_type": "markdown",
   "metadata": {},
   "source": [
    "## Loading and preparing training data"
   ]
  },
  {
   "cell_type": "code",
   "execution_count": 2,
   "metadata": {
    "scrolled": false
   },
   "outputs": [
    {
     "data": {
      "text/html": [
       "<div>\n",
       "<style scoped>\n",
       "    .dataframe tbody tr th:only-of-type {\n",
       "        vertical-align: middle;\n",
       "    }\n",
       "\n",
       "    .dataframe tbody tr th {\n",
       "        vertical-align: top;\n",
       "    }\n",
       "\n",
       "    .dataframe thead th {\n",
       "        text-align: right;\n",
       "    }\n",
       "</style>\n",
       "<table border=\"1\" class=\"dataframe\">\n",
       "  <thead>\n",
       "    <tr style=\"text-align: right;\">\n",
       "      <th></th>\n",
       "      <th>filename</th>\n",
       "      <th>label</th>\n",
       "    </tr>\n",
       "  </thead>\n",
       "  <tbody>\n",
       "    <tr>\n",
       "      <th>0</th>\n",
       "      <td>Image_1.jpg</td>\n",
       "      <td>without_mask</td>\n",
       "    </tr>\n",
       "    <tr>\n",
       "      <th>1</th>\n",
       "      <td>Image_2.jpg</td>\n",
       "      <td>without_mask</td>\n",
       "    </tr>\n",
       "    <tr>\n",
       "      <th>2</th>\n",
       "      <td>Image_3.jpg</td>\n",
       "      <td>without_mask</td>\n",
       "    </tr>\n",
       "    <tr>\n",
       "      <th>3</th>\n",
       "      <td>Image_4.jpg</td>\n",
       "      <td>without_mask</td>\n",
       "    </tr>\n",
       "    <tr>\n",
       "      <th>4</th>\n",
       "      <td>Image_5.jpg</td>\n",
       "      <td>without_mask</td>\n",
       "    </tr>\n",
       "  </tbody>\n",
       "</table>\n",
       "</div>"
      ],
      "text/plain": [
       "      filename         label\n",
       "0  Image_1.jpg  without_mask\n",
       "1  Image_2.jpg  without_mask\n",
       "2  Image_3.jpg  without_mask\n",
       "3  Image_4.jpg  without_mask\n",
       "4  Image_5.jpg  without_mask"
      ]
     },
     "execution_count": 2,
     "metadata": {},
     "output_type": "execute_result"
    }
   ],
   "source": [
    "path = os.getcwd()\n",
    "training_set_path = path + '\\\\Training_set_face_mask.csv'\n",
    "labels = pd.read_csv(training_set_path)   # loading the labels\n",
    "labels.head()                             # will display the first five rows in labels dataframe"
   ]
  },
  {
   "cell_type": "code",
   "execution_count": 3,
   "metadata": {},
   "outputs": [
    {
     "data": {
      "text/html": [
       "<div>\n",
       "<style scoped>\n",
       "    .dataframe tbody tr th:only-of-type {\n",
       "        vertical-align: middle;\n",
       "    }\n",
       "\n",
       "    .dataframe tbody tr th {\n",
       "        vertical-align: top;\n",
       "    }\n",
       "\n",
       "    .dataframe thead th {\n",
       "        text-align: right;\n",
       "    }\n",
       "</style>\n",
       "<table border=\"1\" class=\"dataframe\">\n",
       "  <thead>\n",
       "    <tr style=\"text-align: right;\">\n",
       "      <th></th>\n",
       "      <th>filename</th>\n",
       "      <th>label</th>\n",
       "    </tr>\n",
       "  </thead>\n",
       "  <tbody>\n",
       "    <tr>\n",
       "      <th>11259</th>\n",
       "      <td>Image_11260.jpg</td>\n",
       "      <td>with_mask</td>\n",
       "    </tr>\n",
       "    <tr>\n",
       "      <th>11260</th>\n",
       "      <td>Image_11261.jpg</td>\n",
       "      <td>with_mask</td>\n",
       "    </tr>\n",
       "    <tr>\n",
       "      <th>11261</th>\n",
       "      <td>Image_11262.jpg</td>\n",
       "      <td>with_mask</td>\n",
       "    </tr>\n",
       "    <tr>\n",
       "      <th>11262</th>\n",
       "      <td>Image_11263.jpg</td>\n",
       "      <td>with_mask</td>\n",
       "    </tr>\n",
       "    <tr>\n",
       "      <th>11263</th>\n",
       "      <td>Image_11264.jpg</td>\n",
       "      <td>with_mask</td>\n",
       "    </tr>\n",
       "  </tbody>\n",
       "</table>\n",
       "</div>"
      ],
      "text/plain": [
       "              filename      label\n",
       "11259  Image_11260.jpg  with_mask\n",
       "11260  Image_11261.jpg  with_mask\n",
       "11261  Image_11262.jpg  with_mask\n",
       "11262  Image_11263.jpg  with_mask\n",
       "11263  Image_11264.jpg  with_mask"
      ]
     },
     "execution_count": 3,
     "metadata": {},
     "output_type": "execute_result"
    }
   ],
   "source": [
    "labels.tail()            # will display the last five rows in labels dataframe"
   ]
  },
  {
   "cell_type": "markdown",
   "metadata": {},
   "source": [
    "#### Getting image's filepath"
   ]
  },
  {
   "cell_type": "code",
   "execution_count": 4,
   "metadata": {},
   "outputs": [
    {
     "name": "stdout",
     "output_type": "stream",
     "text": [
      "['Image_1.jpg', 'C:\\\\Users\\\\perro\\\\Documents\\\\deep_learning_final\\\\face_mask_detection\\\\train\\\\Image_1.jpg']\n"
     ]
    }
   ],
   "source": [
    "file_paths = [[fname, path + '\\\\train\\\\' + fname] for fname in labels['filename']]\n",
    "print(file_paths[0])"
   ]
  },
  {
   "cell_type": "markdown",
   "metadata": {},
   "source": [
    "#### Confirming if number of labels is equal to number of images"
   ]
  },
  {
   "cell_type": "code",
   "execution_count": 5,
   "metadata": {
    "scrolled": true
   },
   "outputs": [
    {
     "name": "stdout",
     "output_type": "stream",
     "text": [
      "Number of labels i.e.  11264 matches the number of filenames i.e.  11264\n"
     ]
    }
   ],
   "source": [
    "# Confirm if number of images is same as number of labels given\n",
    "if len(labels) == len(file_paths):\n",
    "    print('Number of labels i.e. ', len(labels), 'matches the number of filenames i.e. ', len(file_paths))\n",
    "else:\n",
    "    print('Number of labels does not match the number of filenames')"
   ]
  },
  {
   "cell_type": "markdown",
   "metadata": {},
   "source": [
    "#### Converting the file_paths to dataframe\n",
    "\n"
   ]
  },
  {
   "cell_type": "code",
   "execution_count": 6,
   "metadata": {},
   "outputs": [
    {
     "data": {
      "text/html": [
       "<div>\n",
       "<style scoped>\n",
       "    .dataframe tbody tr th:only-of-type {\n",
       "        vertical-align: middle;\n",
       "    }\n",
       "\n",
       "    .dataframe tbody tr th {\n",
       "        vertical-align: top;\n",
       "    }\n",
       "\n",
       "    .dataframe thead th {\n",
       "        text-align: right;\n",
       "    }\n",
       "</style>\n",
       "<table border=\"1\" class=\"dataframe\">\n",
       "  <thead>\n",
       "    <tr style=\"text-align: right;\">\n",
       "      <th></th>\n",
       "      <th>filename</th>\n",
       "      <th>filepaths</th>\n",
       "    </tr>\n",
       "  </thead>\n",
       "  <tbody>\n",
       "    <tr>\n",
       "      <th>0</th>\n",
       "      <td>Image_1.jpg</td>\n",
       "      <td>C:\\Users\\perro\\Documents\\deep_learning_final\\f...</td>\n",
       "    </tr>\n",
       "    <tr>\n",
       "      <th>1</th>\n",
       "      <td>Image_2.jpg</td>\n",
       "      <td>C:\\Users\\perro\\Documents\\deep_learning_final\\f...</td>\n",
       "    </tr>\n",
       "    <tr>\n",
       "      <th>2</th>\n",
       "      <td>Image_3.jpg</td>\n",
       "      <td>C:\\Users\\perro\\Documents\\deep_learning_final\\f...</td>\n",
       "    </tr>\n",
       "    <tr>\n",
       "      <th>3</th>\n",
       "      <td>Image_4.jpg</td>\n",
       "      <td>C:\\Users\\perro\\Documents\\deep_learning_final\\f...</td>\n",
       "    </tr>\n",
       "    <tr>\n",
       "      <th>4</th>\n",
       "      <td>Image_5.jpg</td>\n",
       "      <td>C:\\Users\\perro\\Documents\\deep_learning_final\\f...</td>\n",
       "    </tr>\n",
       "  </tbody>\n",
       "</table>\n",
       "</div>"
      ],
      "text/plain": [
       "      filename                                          filepaths\n",
       "0  Image_1.jpg  C:\\Users\\perro\\Documents\\deep_learning_final\\f...\n",
       "1  Image_2.jpg  C:\\Users\\perro\\Documents\\deep_learning_final\\f...\n",
       "2  Image_3.jpg  C:\\Users\\perro\\Documents\\deep_learning_final\\f...\n",
       "3  Image_4.jpg  C:\\Users\\perro\\Documents\\deep_learning_final\\f...\n",
       "4  Image_5.jpg  C:\\Users\\perro\\Documents\\deep_learning_final\\f..."
      ]
     },
     "execution_count": 6,
     "metadata": {},
     "output_type": "execute_result"
    }
   ],
   "source": [
    "images = pd.DataFrame(file_paths, columns=['filename', 'filepaths'])\n",
    "images.head()"
   ]
  },
  {
   "cell_type": "markdown",
   "metadata": {},
   "source": [
    "#### Combining the labels with the images"
   ]
  },
  {
   "cell_type": "code",
   "execution_count": 7,
   "metadata": {},
   "outputs": [
    {
     "data": {
      "text/html": [
       "<div>\n",
       "<style scoped>\n",
       "    .dataframe tbody tr th:only-of-type {\n",
       "        vertical-align: middle;\n",
       "    }\n",
       "\n",
       "    .dataframe tbody tr th {\n",
       "        vertical-align: top;\n",
       "    }\n",
       "\n",
       "    .dataframe thead th {\n",
       "        text-align: right;\n",
       "    }\n",
       "</style>\n",
       "<table border=\"1\" class=\"dataframe\">\n",
       "  <thead>\n",
       "    <tr style=\"text-align: right;\">\n",
       "      <th></th>\n",
       "      <th>filename</th>\n",
       "      <th>filepaths</th>\n",
       "      <th>label</th>\n",
       "    </tr>\n",
       "  </thead>\n",
       "  <tbody>\n",
       "    <tr>\n",
       "      <th>0</th>\n",
       "      <td>Image_1.jpg</td>\n",
       "      <td>C:\\Users\\perro\\Documents\\deep_learning_final\\f...</td>\n",
       "      <td>without_mask</td>\n",
       "    </tr>\n",
       "    <tr>\n",
       "      <th>1</th>\n",
       "      <td>Image_2.jpg</td>\n",
       "      <td>C:\\Users\\perro\\Documents\\deep_learning_final\\f...</td>\n",
       "      <td>without_mask</td>\n",
       "    </tr>\n",
       "    <tr>\n",
       "      <th>2</th>\n",
       "      <td>Image_3.jpg</td>\n",
       "      <td>C:\\Users\\perro\\Documents\\deep_learning_final\\f...</td>\n",
       "      <td>without_mask</td>\n",
       "    </tr>\n",
       "    <tr>\n",
       "      <th>3</th>\n",
       "      <td>Image_4.jpg</td>\n",
       "      <td>C:\\Users\\perro\\Documents\\deep_learning_final\\f...</td>\n",
       "      <td>without_mask</td>\n",
       "    </tr>\n",
       "    <tr>\n",
       "      <th>4</th>\n",
       "      <td>Image_5.jpg</td>\n",
       "      <td>C:\\Users\\perro\\Documents\\deep_learning_final\\f...</td>\n",
       "      <td>without_mask</td>\n",
       "    </tr>\n",
       "  </tbody>\n",
       "</table>\n",
       "</div>"
      ],
      "text/plain": [
       "      filename                                          filepaths  \\\n",
       "0  Image_1.jpg  C:\\Users\\perro\\Documents\\deep_learning_final\\f...   \n",
       "1  Image_2.jpg  C:\\Users\\perro\\Documents\\deep_learning_final\\f...   \n",
       "2  Image_3.jpg  C:\\Users\\perro\\Documents\\deep_learning_final\\f...   \n",
       "3  Image_4.jpg  C:\\Users\\perro\\Documents\\deep_learning_final\\f...   \n",
       "4  Image_5.jpg  C:\\Users\\perro\\Documents\\deep_learning_final\\f...   \n",
       "\n",
       "          label  \n",
       "0  without_mask  \n",
       "1  without_mask  \n",
       "2  without_mask  \n",
       "3  without_mask  \n",
       "4  without_mask  "
      ]
     },
     "execution_count": 7,
     "metadata": {},
     "output_type": "execute_result"
    }
   ],
   "source": [
    "train_data = pd.merge(images, labels, how = 'inner', on = 'filename')\n",
    "train_data.head()"
   ]
  },
  {
   "cell_type": "markdown",
   "metadata": {},
   "source": [
    "## Data pre-processing \n",
    "\n",
    "#### Performing one-hot encoding on the labels"
   ]
  },
  {
   "cell_type": "code",
   "execution_count": 8,
   "metadata": {},
   "outputs": [],
   "source": [
    "lb = LabelBinarizer()\n",
    "labels_bin = lb.fit_transform(train_data.label) # categorical labels to binary\n",
    "train_data[\"labels_bin\"] = lb.fit_transform(train_data.label) # categorical labels to binary\n",
    "labels_OHE =  to_categorical(labels_bin)  # One-Hot-Encoding for the labels binary"
   ]
  },
  {
   "cell_type": "code",
   "execution_count": 9,
   "metadata": {},
   "outputs": [
    {
     "data": {
      "text/html": [
       "<div>\n",
       "<style scoped>\n",
       "    .dataframe tbody tr th:only-of-type {\n",
       "        vertical-align: middle;\n",
       "    }\n",
       "\n",
       "    .dataframe tbody tr th {\n",
       "        vertical-align: top;\n",
       "    }\n",
       "\n",
       "    .dataframe thead th {\n",
       "        text-align: right;\n",
       "    }\n",
       "</style>\n",
       "<table border=\"1\" class=\"dataframe\">\n",
       "  <thead>\n",
       "    <tr style=\"text-align: right;\">\n",
       "      <th></th>\n",
       "      <th>filename</th>\n",
       "      <th>filepaths</th>\n",
       "      <th>label</th>\n",
       "      <th>labels_bin</th>\n",
       "    </tr>\n",
       "  </thead>\n",
       "  <tbody>\n",
       "    <tr>\n",
       "      <th>0</th>\n",
       "      <td>Image_1.jpg</td>\n",
       "      <td>C:\\Users\\perro\\Documents\\deep_learning_final\\f...</td>\n",
       "      <td>without_mask</td>\n",
       "      <td>1</td>\n",
       "    </tr>\n",
       "    <tr>\n",
       "      <th>1</th>\n",
       "      <td>Image_2.jpg</td>\n",
       "      <td>C:\\Users\\perro\\Documents\\deep_learning_final\\f...</td>\n",
       "      <td>without_mask</td>\n",
       "      <td>1</td>\n",
       "    </tr>\n",
       "    <tr>\n",
       "      <th>2</th>\n",
       "      <td>Image_3.jpg</td>\n",
       "      <td>C:\\Users\\perro\\Documents\\deep_learning_final\\f...</td>\n",
       "      <td>without_mask</td>\n",
       "      <td>1</td>\n",
       "    </tr>\n",
       "    <tr>\n",
       "      <th>3</th>\n",
       "      <td>Image_4.jpg</td>\n",
       "      <td>C:\\Users\\perro\\Documents\\deep_learning_final\\f...</td>\n",
       "      <td>without_mask</td>\n",
       "      <td>1</td>\n",
       "    </tr>\n",
       "    <tr>\n",
       "      <th>4</th>\n",
       "      <td>Image_5.jpg</td>\n",
       "      <td>C:\\Users\\perro\\Documents\\deep_learning_final\\f...</td>\n",
       "      <td>without_mask</td>\n",
       "      <td>1</td>\n",
       "    </tr>\n",
       "  </tbody>\n",
       "</table>\n",
       "</div>"
      ],
      "text/plain": [
       "      filename                                          filepaths  \\\n",
       "0  Image_1.jpg  C:\\Users\\perro\\Documents\\deep_learning_final\\f...   \n",
       "1  Image_2.jpg  C:\\Users\\perro\\Documents\\deep_learning_final\\f...   \n",
       "2  Image_3.jpg  C:\\Users\\perro\\Documents\\deep_learning_final\\f...   \n",
       "3  Image_4.jpg  C:\\Users\\perro\\Documents\\deep_learning_final\\f...   \n",
       "4  Image_5.jpg  C:\\Users\\perro\\Documents\\deep_learning_final\\f...   \n",
       "\n",
       "          label  labels_bin  \n",
       "0  without_mask           1  \n",
       "1  without_mask           1  \n",
       "2  without_mask           1  \n",
       "3  without_mask           1  \n",
       "4  without_mask           1  "
      ]
     },
     "execution_count": 9,
     "metadata": {},
     "output_type": "execute_result"
    }
   ],
   "source": [
    "train_data.head()"
   ]
  },
  {
   "cell_type": "markdown",
   "metadata": {},
   "source": [
    "#### Shuffling input and target for optimum training"
   ]
  },
  {
   "cell_type": "code",
   "execution_count": 10,
   "metadata": {},
   "outputs": [
    {
     "name": "stdout",
     "output_type": "stream",
     "text": [
      "9529    0\n",
      "2249    1\n",
      "2071    1\n",
      "2388    1\n",
      "149     1\n",
      "Name: labels_bin, dtype: int32\n"
     ]
    }
   ],
   "source": [
    "x = train_data['filepaths']\n",
    "y = train_data['labels_bin']\n",
    "\n",
    "x, y = shuffle(x, y, random_state=8)\n",
    "print(y.head())"
   ]
  },
  {
   "cell_type": "markdown",
   "metadata": {},
   "source": [
    "#### Function for Resizing and Reshaping the input images"
   ]
  },
  {
   "cell_type": "code",
   "execution_count": 11,
   "metadata": {},
   "outputs": [],
   "source": [
    "def centering_image(img):\n",
    "    \n",
    "    size = [256,256]\n",
    "    #shape:(h×w×t)taking the first2 elements(h,w) and unpacking them appropriately \n",
    "    img_size = img.shape[:2]\n",
    "    \n",
    "    # extracting the excess space for centering.\n",
    "    row = (size[1] - img_size[0]) // 2\n",
    "    col = (size[0] - img_size[1]) // 2\n",
    "    \n",
    "    #creating centered image by taking a 0-matrix and then re-assigning intensities\n",
    "    resized = np.zeros(list(size) + [img.shape[2]], dtype=np.uint8)\n",
    "    resized[row:(row + img.shape[0]), col:(col + img.shape[1])] = img\n",
    "\n",
    "    return resized"
   ]
  },
  {
   "cell_type": "markdown",
   "metadata": {},
   "source": [
    "#### Image resizing and converting them to an array"
   ]
  },
  {
   "cell_type": "code",
   "execution_count": 12,
   "metadata": {},
   "outputs": [
    {
     "data": {
      "application/vnd.jupyter.widget-view+json": {
       "model_id": "3f66beb054e4409db24d0a493412cdd2",
       "version_major": 2,
       "version_minor": 0
      },
      "text/plain": [
       "HBox(children=(FloatProgress(value=0.0, max=11264.0), HTML(value='')))"
      ]
     },
     "metadata": {},
     "output_type": "display_data"
    },
    {
     "name": "stdout",
     "output_type": "stream",
     "text": [
      "\n"
     ]
    }
   ],
   "source": [
    "\n",
    "\"\"\" \n",
    "TQDM is a progress bar library. \n",
    "Inserting tqdm (or python -m tqdm)between pipes will pass \n",
    "through all stdin to stdout while printing progress to stderr\n",
    "\"\"\"\n",
    "images = []\n",
    "with tqdm(total=len(train_data)) as pbar:\n",
    "    for i, file_path in enumerate(train_data.filepaths.values):\n",
    "        \n",
    "        #read image\n",
    "        img = cv2.imread(file_path,1)\n",
    "        #color order is changed\n",
    "        img = cv2.cvtColor(img, cv2.COLOR_BGR2RGB)\n",
    "        #print(img)\n",
    "\n",
    "        #resize\n",
    "        #converting images to square\n",
    "        if(img.shape[0] > img.shape[1]):\n",
    "            tile_size = (int(img.shape[1]*256/img.shape[0]),256)\n",
    "        else:\n",
    "            tile_size = (256, int(img.shape[0]*256/img.shape[1]))\n",
    "\n",
    "        #centering the images\n",
    "        img = centering_image(cv2.resize(img, dsize=tile_size))\n",
    "\n",
    "        #out put 224*224px \n",
    "        img = img[16:240, 16:240]\n",
    "        images.append(img)\n",
    "        pbar.update(1)\n",
    "\n",
    "images = np.array(images)"
   ]
  },
  {
   "cell_type": "markdown",
   "metadata": {},
   "source": [
    "#### Re-Shuffling processed train data and converting to array\n"
   ]
  },
  {
   "cell_type": "code",
   "execution_count": 13,
   "metadata": {},
   "outputs": [],
   "source": [
    "data_num = len(y)\n",
    "random_index = np.random.permutation(data_num)\n",
    "\n",
    "x_shuffle = []\n",
    "y_shuffle = []\n",
    "for i in range(data_num):\n",
    "    x_shuffle.append(images[random_index[i]])\n",
    "    y_shuffle.append(y[random_index[i]])\n",
    "    \n",
    "x = np.array(x_shuffle)\n",
    "y = np.array(y_shuffle)"
   ]
  },
  {
   "cell_type": "markdown",
   "metadata": {},
   "source": [
    "#### Train val split, oneHotVectorizing categories, input normalization"
   ]
  },
  {
   "cell_type": "code",
   "execution_count": 14,
   "metadata": {
    "scrolled": true
   },
   "outputs": [
    {
     "name": "stdout",
     "output_type": "stream",
     "text": [
      "x_train (9011, 224, 224, 3)\n",
      "y_train (9011,)\n",
      "########################\n",
      "x_test (2253, 224, 224, 3)\n",
      "y_test (2253,)\n",
      "x_train Shape: (9011, 224, 224, 3) \t x_test Shape: (2253, 224, 224, 3)\n",
      "y_train Shape:  (9011, 2) \t y_test Shape: (2253, 2)\n",
      "image Shape: (224, 224, 3)\n"
     ]
    }
   ],
   "source": [
    "#Train val split\n",
    "# partition the data into training and testing splits using 80% of\n",
    "# the data for training and the remaining 20% for testing\n",
    "val_split_num = int(round(0.2*len(y)))\n",
    "\n",
    "x_train = x[val_split_num:]\n",
    "y_train = y[val_split_num:]\n",
    "\n",
    "x_validation = x[:val_split_num]\n",
    "y_validation = y[:val_split_num]\n",
    "\n",
    "print('x_train', x_train.shape)\n",
    "print('y_train', y_train.shape)\n",
    "print('########################')\n",
    "print('x_test', x_validation.shape)\n",
    "print('y_test', y_validation.shape)\n",
    "\n",
    "# OneHotVectorizing categories\n",
    "y_train = to_categorical(y_train)\n",
    "y_validation = to_categorical(y_validation)\n",
    "\n",
    "# Input normalization\n",
    "x_train = x_train.astype('float32')\n",
    "x_validation = x_validation.astype('float32')\n",
    "\n",
    "x_train /= 255\n",
    "x_validation /= 255\n",
    "\n",
    "print('x_train Shape:', x_train.shape, '\\t x_test Shape:',x_validation.shape)\n",
    "print('y_train Shape: ', y_train.shape, '\\t y_test Shape:',y_validation.shape)\n",
    "print('image Shape:', x_train[0].shape)"
   ]
  },
  {
   "cell_type": "code",
   "execution_count": 15,
   "metadata": {},
   "outputs": [],
   "source": [
    "aug = ImageDataGenerator(\n",
    "    rotation_range=20,\n",
    "    zoom_range=0.15,\n",
    "    width_shift_range=0.2,\n",
    "    height_shift_range=0.2,\n",
    "    shear_range=0.15,\n",
    "    horizontal_flip=True,\n",
    "    fill_mode=\"nearest\")"
   ]
  },
  {
   "cell_type": "code",
   "execution_count": 16,
   "metadata": {},
   "outputs": [
    {
     "name": "stdout",
     "output_type": "stream",
     "text": [
      "Model: \"sequential\"\n",
      "_________________________________________________________________\n",
      "Layer (type)                 Output Shape              Param #   \n",
      "=================================================================\n",
      "conv2d (Conv2D)              (None, 222, 222, 32)      896       \n",
      "_________________________________________________________________\n",
      "activation (Activation)      (None, 222, 222, 32)      0         \n",
      "_________________________________________________________________\n",
      "max_pooling2d (MaxPooling2D) (None, 111, 111, 32)      0         \n",
      "_________________________________________________________________\n",
      "conv2d_1 (Conv2D)            (None, 109, 109, 32)      9248      \n",
      "_________________________________________________________________\n",
      "activation_1 (Activation)    (None, 109, 109, 32)      0         \n",
      "_________________________________________________________________\n",
      "max_pooling2d_1 (MaxPooling2 (None, 54, 54, 32)        0         \n",
      "_________________________________________________________________\n",
      "conv2d_2 (Conv2D)            (None, 52, 52, 64)        18496     \n",
      "_________________________________________________________________\n",
      "activation_2 (Activation)    (None, 52, 52, 64)        0         \n",
      "_________________________________________________________________\n",
      "max_pooling2d_2 (MaxPooling2 (None, 26, 26, 64)        0         \n",
      "_________________________________________________________________\n",
      "flatten (Flatten)            (None, 43264)             0         \n",
      "_________________________________________________________________\n",
      "dense (Dense)                (None, 64)                2768960   \n",
      "_________________________________________________________________\n",
      "activation_3 (Activation)    (None, 64)                0         \n",
      "_________________________________________________________________\n",
      "dropout (Dropout)            (None, 64)                0         \n",
      "_________________________________________________________________\n",
      "dense_1 (Dense)              (None, 2)                 130       \n",
      "_________________________________________________________________\n",
      "activation_4 (Activation)    (None, 2)                 0         \n",
      "=================================================================\n",
      "Total params: 2,797,730\n",
      "Trainable params: 2,797,730\n",
      "Non-trainable params: 0\n",
      "_________________________________________________________________\n"
     ]
    }
   ],
   "source": [
    "\n",
    "'''\n",
    "# CONVOLUTIONAL ARCHITECTURE \n",
    "'''\n",
    "\n",
    "learning_rate = 1e-4\n",
    "epochs = 10\n",
    "\n",
    "model = Sequential()\n",
    "# first layer\n",
    "model.add(Conv2D(32,(3,3), input_shape=(224, 224,3)))\n",
    "model.add(Activation('relu'))\n",
    "model.add(MaxPooling2D(pool_size=(2,2)))\n",
    "\n",
    "#second layer\n",
    "model.add(Conv2D(32,(3,3)))\n",
    "model.add(Activation('relu'))\n",
    "model.add(MaxPooling2D(pool_size=(2,2)))\n",
    "\n",
    "model.add(Conv2D(64, (3, 3)))\n",
    "model.add(Activation('relu'))\n",
    "model.add(MaxPooling2D(pool_size=(2, 2)))\n",
    "\n",
    "# flatten\n",
    "model.add(Flatten())\n",
    "model.add(Dense(64))\n",
    "model.add(Activation('relu'))\n",
    "model.add(Dropout(0.5))\n",
    "model.add(Dense(2))\n",
    "model.add(Activation('softmax'))\n",
    "# print(model.output_shape)\n",
    "# print(model.summary())\n",
    "\n",
    "opt = Adam(lr=learning_rate, decay=learning_rate / epochs)\n",
    "\n",
    "model.compile(loss=\"binary_crossentropy\", optimizer=opt, \n",
    "              metrics=[\"accuracy\"])\n",
    "\n",
    "#history = model.fit(data,target,epochs=1,validation_split=0.2)\n",
    "\n",
    "# Summary of our model\n",
    "model.summary()"
   ]
  },
  {
   "cell_type": "markdown",
   "metadata": {},
   "source": [
    "## Train the head of the network\n"
   ]
  },
  {
   "cell_type": "code",
   "execution_count": 19,
   "metadata": {},
   "outputs": [
    {
     "name": "stdout",
     "output_type": "stream",
     "text": [
      "[INFO] training head...\n",
      "Epoch 1/10\n",
      "281/281 [==============================] - ETA: 0s - loss: 0.3219 - accuracy: 0.8635WARNING:tensorflow:Your input ran out of data; interrupting training. Make sure that your dataset or generator can generate at least `steps_per_epoch * epochs` batches (in this case, 70 batches). You may need to use the repeat() function when building your dataset.\n",
      "281/281 [==============================] - 277s 988ms/step - loss: 0.3219 - accuracy: 0.8635 - val_loss: 0.1668 - val_accuracy: 0.9414\n",
      "Epoch 2/10\n",
      "281/281 [==============================] - 262s 931ms/step - loss: 0.1929 - accuracy: 0.9308\n",
      "Epoch 3/10\n",
      "281/281 [==============================] - 272s 968ms/step - loss: 0.1844 - accuracy: 0.9312\n",
      "Epoch 4/10\n",
      "281/281 [==============================] - 266s 948ms/step - loss: 0.1808 - accuracy: 0.9340\n",
      "Epoch 5/10\n",
      "281/281 [==============================] - 262s 931ms/step - loss: 0.1710 - accuracy: 0.9408\n",
      "Epoch 6/10\n",
      "281/281 [==============================] - 263s 934ms/step - loss: 0.1642 - accuracy: 0.9409\n",
      "Epoch 7/10\n",
      "281/281 [==============================] - 354s 1s/step - loss: 0.1652 - accuracy: 0.9401\n",
      "Epoch 8/10\n",
      "281/281 [==============================] - 378s 1s/step - loss: 0.1568 - accuracy: 0.9451\n",
      "Epoch 9/10\n",
      "281/281 [==============================] - 378s 1s/step - loss: 0.1466 - accuracy: 0.9477\n",
      "Epoch 10/10\n",
      "281/281 [==============================] - 376s 1s/step - loss: 0.1422 - accuracy: 0.9487\n"
     ]
    }
   ],
   "source": [
    "BS = 32\n",
    "\n",
    "print(\"[INFO] training head...\")\n",
    "\n",
    "H = model.fit(\n",
    "    aug.flow(x_train, y_train, batch_size=BS),\n",
    "\tsteps_per_epoch=len(x_train) // BS,\n",
    "\n",
    "\tvalidation_data=(x_validation, y_validation),\n",
    "\tvalidation_steps=len(x_validation) // BS,\n",
    "\tepochs=epochs)"
   ]
  },
  {
   "cell_type": "code",
   "execution_count": 20,
   "metadata": {},
   "outputs": [
    {
     "data": {
      "text/plain": [
       "{'loss': [0.32194966077804565,\n",
       "  0.19289517402648926,\n",
       "  0.1843528300523758,\n",
       "  0.18084090948104858,\n",
       "  0.17104454338550568,\n",
       "  0.164242222905159,\n",
       "  0.16524559259414673,\n",
       "  0.15682485699653625,\n",
       "  0.14657250046730042,\n",
       "  0.14223794639110565],\n",
       " 'accuracy': [0.8634591698646545,\n",
       "  0.9308386445045471,\n",
       "  0.9311727285385132,\n",
       "  0.933957040309906,\n",
       "  0.9407506585121155,\n",
       "  0.9408619999885559,\n",
       "  0.9400824308395386,\n",
       "  0.945094108581543,\n",
       "  0.9476556181907654,\n",
       "  0.9486579895019531],\n",
       " 'val_loss': [0.16682837903499603],\n",
       " 'val_accuracy': [0.9414114356040955]}"
      ]
     },
     "execution_count": 20,
     "metadata": {},
     "output_type": "execute_result"
    }
   ],
   "source": [
    "H.history"
   ]
  },
  {
   "cell_type": "code",
   "execution_count": 22,
   "metadata": {},
   "outputs": [
    {
     "data": {
      "text/plain": [
       "<matplotlib.legend.Legend at 0x1e88401b6d0>"
      ]
     },
     "execution_count": 22,
     "metadata": {},
     "output_type": "execute_result"
    },
    {
     "data": {
      "image/png": "[encoded data removed]",
      "text/plain": [
       "<Figure size 432x288 with 1 Axes>"
      ]
     },
     "metadata": {},
     "output_type": "display_data"
    }
   ],
   "source": [
    "# plot the training loss and accuracy\n",
    "N = epochs\n",
    "plt.style.use(\"ggplot\")\n",
    "plt.figure()\n",
    "plt.plot(np.arange(0, N), H.history[\"loss\"], label=\"train_loss\")\n",
    "#plt.plot(np.arange(0, N), H.history[\"val_loss\"], label=\"val_loss\")\n",
    "plt.plot(np.arange(0, N), H.history[\"accuracy\"], label=\"train_acc\")\n",
    "#plt.plot(np.arange(0, N), H.history[\"val_accuracy\"], label=\"val_acc\")\n",
    "plt.title(\"Training Loss and Accuracy\")\n",
    "plt.xlabel(\"Epoch #\")\n",
    "plt.ylabel(\"Loss/Accuracy\")\n",
    "plt.legend(loc=\"lower left\")\n",
    "#plt.savefig(args[\"plot\"])"
   ]
  },
  {
   "cell_type": "code",
   "execution_count": 23,
   "metadata": {},
   "outputs": [
    {
     "name": "stdout",
     "output_type": "stream",
     "text": [
      "[INFO] evaluating network...\n",
      "              precision    recall  f1-score   support\n",
      "\n",
      "   with_mask       0.97      0.96      0.97      1160\n",
      "without_mask       0.96      0.97      0.96      1093\n",
      "\n",
      "    accuracy                           0.97      2253\n",
      "   macro avg       0.97      0.97      0.97      2253\n",
      "weighted avg       0.97      0.97      0.97      2253\n",
      "\n"
     ]
    }
   ],
   "source": [
    "# make predictions on the testing set\n",
    "print(\"[INFO] evaluating network...\")\n",
    "predIdxs = model.predict(x_validation, batch_size=BS)\n",
    "# for each image in the testing set we need to find the index of the\n",
    "# label with corresponding largest predicted probability\n",
    "predIdxs = np.argmax(predIdxs, axis=1)\n",
    "# show a nicely formatted classification report\n",
    "print(classification_report(y_validation.argmax(axis=1), predIdxs,\n",
    "\ttarget_names=lb.classes_))"
   ]
  },
  {
   "cell_type": "code",
   "execution_count": 26,
   "metadata": {},
   "outputs": [
    {
     "name": "stdout",
     "output_type": "stream",
     "text": [
      "C:\\Users\\perro\\Documents\\deep_learning_final\\face_mask_detection\n",
      "Saved trained model at C:\\Users\\perro\\Documents\\deep_learning_final\\face_mask_detection\\final.h5 \n"
     ]
    }
   ],
   "source": [
    "# saving the model\n",
    "save_dir = path\n",
    "model_name = '\\\\final.h5'\n",
    "model_path = save_dir + model_name\n",
    "model.save(model_path)\n",
    "print('Saved trained model at %s ' % model_path)"
   ]
  },
  {
   "cell_type": "code",
   "execution_count": 29,
   "metadata": {},
   "outputs": [
    {
     "data": {
      "text/html": [
       "<div>\n",
       "<style scoped>\n",
       "    .dataframe tbody tr th:only-of-type {\n",
       "        vertical-align: middle;\n",
       "    }\n",
       "\n",
       "    .dataframe tbody tr th {\n",
       "        vertical-align: top;\n",
       "    }\n",
       "\n",
       "    .dataframe thead th {\n",
       "        text-align: right;\n",
       "    }\n",
       "</style>\n",
       "<table border=\"1\" class=\"dataframe\">\n",
       "  <thead>\n",
       "    <tr style=\"text-align: right;\">\n",
       "      <th></th>\n",
       "      <th>filename</th>\n",
       "      <th>label</th>\n",
       "    </tr>\n",
       "  </thead>\n",
       "  <tbody>\n",
       "    <tr>\n",
       "      <th>0</th>\n",
       "      <td>Image_1.jpg</td>\n",
       "      <td>NaN</td>\n",
       "    </tr>\n",
       "    <tr>\n",
       "      <th>1</th>\n",
       "      <td>Image_2.jpg</td>\n",
       "      <td>NaN</td>\n",
       "    </tr>\n",
       "    <tr>\n",
       "      <th>2</th>\n",
       "      <td>Image_3.jpg</td>\n",
       "      <td>NaN</td>\n",
       "    </tr>\n",
       "    <tr>\n",
       "      <th>3</th>\n",
       "      <td>Image_4.jpg</td>\n",
       "      <td>NaN</td>\n",
       "    </tr>\n",
       "    <tr>\n",
       "      <th>4</th>\n",
       "      <td>Image_5.jpg</td>\n",
       "      <td>NaN</td>\n",
       "    </tr>\n",
       "  </tbody>\n",
       "</table>\n",
       "</div>"
      ],
      "text/plain": [
       "      filename  label\n",
       "0  Image_1.jpg    NaN\n",
       "1  Image_2.jpg    NaN\n",
       "2  Image_3.jpg    NaN\n",
       "3  Image_4.jpg    NaN\n",
       "4  Image_5.jpg    NaN"
      ]
     },
     "execution_count": 29,
     "metadata": {},
     "output_type": "execute_result"
    }
   ],
   "source": [
    "test_set_path = path + '\\\\Testing_set_face_mask.csv'\n",
    "test_image_order = pd.read_csv(test_set_path)\n",
    "test_image_order.head()"
   ]
  },
  {
   "cell_type": "code",
   "execution_count": 30,
   "metadata": {},
   "outputs": [
    {
     "name": "stdout",
     "output_type": "stream",
     "text": [
      "['Image_1.jpg', 'C:\\\\Users\\\\perro\\\\Documents\\\\deep_learning_final\\\\face_mask_detection//test//Image_1.jpg']\n"
     ]
    }
   ],
   "source": [
    "file_paths = [[fname, path+ '//test//' + fname] for fname in test_image_order['filename']]\n",
    "print(file_paths[0])"
   ]
  },
  {
   "cell_type": "code",
   "execution_count": 32,
   "metadata": {},
   "outputs": [
    {
     "name": "stdout",
     "output_type": "stream",
     "text": [
      "Number of labels i.e.  1536 matches the number of filenames i.e.  1536\n"
     ]
    }
   ],
   "source": [
    "# Confirm if number of images is same as number of labels given\n",
    "if len(test_image_order) == len(file_paths):\n",
    "    print('Number of labels i.e. ', len(test_image_order), 'matches the number of filenames i.e. ', len(file_paths))\n",
    "else:\n",
    "    print('Number of labels does not match the number of filenames')"
   ]
  },
  {
   "cell_type": "code",
   "execution_count": 33,
   "metadata": {},
   "outputs": [
    {
     "data": {
      "text/html": [
       "<div>\n",
       "<style scoped>\n",
       "    .dataframe tbody tr th:only-of-type {\n",
       "        vertical-align: middle;\n",
       "    }\n",
       "\n",
       "    .dataframe tbody tr th {\n",
       "        vertical-align: top;\n",
       "    }\n",
       "\n",
       "    .dataframe thead th {\n",
       "        text-align: right;\n",
       "    }\n",
       "</style>\n",
       "<table border=\"1\" class=\"dataframe\">\n",
       "  <thead>\n",
       "    <tr style=\"text-align: right;\">\n",
       "      <th></th>\n",
       "      <th>filename</th>\n",
       "      <th>filepaths</th>\n",
       "    </tr>\n",
       "  </thead>\n",
       "  <tbody>\n",
       "    <tr>\n",
       "      <th>0</th>\n",
       "      <td>Image_1.jpg</td>\n",
       "      <td>C:\\Users\\perro\\Documents\\deep_learning_final\\f...</td>\n",
       "    </tr>\n",
       "    <tr>\n",
       "      <th>1</th>\n",
       "      <td>Image_2.jpg</td>\n",
       "      <td>C:\\Users\\perro\\Documents\\deep_learning_final\\f...</td>\n",
       "    </tr>\n",
       "    <tr>\n",
       "      <th>2</th>\n",
       "      <td>Image_3.jpg</td>\n",
       "      <td>C:\\Users\\perro\\Documents\\deep_learning_final\\f...</td>\n",
       "    </tr>\n",
       "    <tr>\n",
       "      <th>3</th>\n",
       "      <td>Image_4.jpg</td>\n",
       "      <td>C:\\Users\\perro\\Documents\\deep_learning_final\\f...</td>\n",
       "    </tr>\n",
       "    <tr>\n",
       "      <th>4</th>\n",
       "      <td>Image_5.jpg</td>\n",
       "      <td>C:\\Users\\perro\\Documents\\deep_learning_final\\f...</td>\n",
       "    </tr>\n",
       "  </tbody>\n",
       "</table>\n",
       "</div>"
      ],
      "text/plain": [
       "      filename                                          filepaths\n",
       "0  Image_1.jpg  C:\\Users\\perro\\Documents\\deep_learning_final\\f...\n",
       "1  Image_2.jpg  C:\\Users\\perro\\Documents\\deep_learning_final\\f...\n",
       "2  Image_3.jpg  C:\\Users\\perro\\Documents\\deep_learning_final\\f...\n",
       "3  Image_4.jpg  C:\\Users\\perro\\Documents\\deep_learning_final\\f...\n",
       "4  Image_5.jpg  C:\\Users\\perro\\Documents\\deep_learning_final\\f..."
      ]
     },
     "execution_count": 33,
     "metadata": {},
     "output_type": "execute_result"
    }
   ],
   "source": [
    "# Converting the file_paths to dataframe\n",
    "test_images = pd.DataFrame(file_paths, columns=['filename', 'filepaths'])\n",
    "test_images.head()"
   ]
  },
  {
   "cell_type": "code",
   "execution_count": 34,
   "metadata": {},
   "outputs": [
    {
     "data": {
      "text/html": [
       "<div>\n",
       "<style scoped>\n",
       "    .dataframe tbody tr th:only-of-type {\n",
       "        vertical-align: middle;\n",
       "    }\n",
       "\n",
       "    .dataframe tbody tr th {\n",
       "        vertical-align: top;\n",
       "    }\n",
       "\n",
       "    .dataframe thead th {\n",
       "        text-align: right;\n",
       "    }\n",
       "</style>\n",
       "<table border=\"1\" class=\"dataframe\">\n",
       "  <thead>\n",
       "    <tr style=\"text-align: right;\">\n",
       "      <th></th>\n",
       "      <th>filename</th>\n",
       "      <th>filepaths</th>\n",
       "      <th>label</th>\n",
       "    </tr>\n",
       "  </thead>\n",
       "  <tbody>\n",
       "    <tr>\n",
       "      <th>0</th>\n",
       "      <td>Image_1.jpg</td>\n",
       "      <td>C:\\Users\\perro\\Documents\\deep_learning_final\\f...</td>\n",
       "      <td>NaN</td>\n",
       "    </tr>\n",
       "    <tr>\n",
       "      <th>1</th>\n",
       "      <td>Image_2.jpg</td>\n",
       "      <td>C:\\Users\\perro\\Documents\\deep_learning_final\\f...</td>\n",
       "      <td>NaN</td>\n",
       "    </tr>\n",
       "    <tr>\n",
       "      <th>2</th>\n",
       "      <td>Image_3.jpg</td>\n",
       "      <td>C:\\Users\\perro\\Documents\\deep_learning_final\\f...</td>\n",
       "      <td>NaN</td>\n",
       "    </tr>\n",
       "    <tr>\n",
       "      <th>3</th>\n",
       "      <td>Image_4.jpg</td>\n",
       "      <td>C:\\Users\\perro\\Documents\\deep_learning_final\\f...</td>\n",
       "      <td>NaN</td>\n",
       "    </tr>\n",
       "    <tr>\n",
       "      <th>4</th>\n",
       "      <td>Image_5.jpg</td>\n",
       "      <td>C:\\Users\\perro\\Documents\\deep_learning_final\\f...</td>\n",
       "      <td>NaN</td>\n",
       "    </tr>\n",
       "  </tbody>\n",
       "</table>\n",
       "</div>"
      ],
      "text/plain": [
       "      filename                                          filepaths  label\n",
       "0  Image_1.jpg  C:\\Users\\perro\\Documents\\deep_learning_final\\f...    NaN\n",
       "1  Image_2.jpg  C:\\Users\\perro\\Documents\\deep_learning_final\\f...    NaN\n",
       "2  Image_3.jpg  C:\\Users\\perro\\Documents\\deep_learning_final\\f...    NaN\n",
       "3  Image_4.jpg  C:\\Users\\perro\\Documents\\deep_learning_final\\f...    NaN\n",
       "4  Image_5.jpg  C:\\Users\\perro\\Documents\\deep_learning_final\\f...    NaN"
      ]
     },
     "execution_count": 34,
     "metadata": {},
     "output_type": "execute_result"
    }
   ],
   "source": [
    "test_data = pd.merge(test_images, test_image_order, how = 'inner', on = 'filename')\n",
    "test_data.head()"
   ]
  },
  {
   "cell_type": "code",
   "execution_count": 35,
   "metadata": {},
   "outputs": [],
   "source": [
    "# Dropping the label column...\n",
    "test_data.drop('label', axis = 1, inplace=True)"
   ]
  },
  {
   "cell_type": "code",
   "execution_count": 36,
   "metadata": {},
   "outputs": [
    {
     "data": {
      "text/html": [
       "<div>\n",
       "<style scoped>\n",
       "    .dataframe tbody tr th:only-of-type {\n",
       "        vertical-align: middle;\n",
       "    }\n",
       "\n",
       "    .dataframe tbody tr th {\n",
       "        vertical-align: top;\n",
       "    }\n",
       "\n",
       "    .dataframe thead th {\n",
       "        text-align: right;\n",
       "    }\n",
       "</style>\n",
       "<table border=\"1\" class=\"dataframe\">\n",
       "  <thead>\n",
       "    <tr style=\"text-align: right;\">\n",
       "      <th></th>\n",
       "      <th>filename</th>\n",
       "      <th>filepaths</th>\n",
       "    </tr>\n",
       "  </thead>\n",
       "  <tbody>\n",
       "    <tr>\n",
       "      <th>0</th>\n",
       "      <td>Image_1.jpg</td>\n",
       "      <td>C:\\Users\\perro\\Documents\\deep_learning_final\\f...</td>\n",
       "    </tr>\n",
       "    <tr>\n",
       "      <th>1</th>\n",
       "      <td>Image_2.jpg</td>\n",
       "      <td>C:\\Users\\perro\\Documents\\deep_learning_final\\f...</td>\n",
       "    </tr>\n",
       "    <tr>\n",
       "      <th>2</th>\n",
       "      <td>Image_3.jpg</td>\n",
       "      <td>C:\\Users\\perro\\Documents\\deep_learning_final\\f...</td>\n",
       "    </tr>\n",
       "    <tr>\n",
       "      <th>3</th>\n",
       "      <td>Image_4.jpg</td>\n",
       "      <td>C:\\Users\\perro\\Documents\\deep_learning_final\\f...</td>\n",
       "    </tr>\n",
       "    <tr>\n",
       "      <th>4</th>\n",
       "      <td>Image_5.jpg</td>\n",
       "      <td>C:\\Users\\perro\\Documents\\deep_learning_final\\f...</td>\n",
       "    </tr>\n",
       "  </tbody>\n",
       "</table>\n",
       "</div>"
      ],
      "text/plain": [
       "      filename                                          filepaths\n",
       "0  Image_1.jpg  C:\\Users\\perro\\Documents\\deep_learning_final\\f...\n",
       "1  Image_2.jpg  C:\\Users\\perro\\Documents\\deep_learning_final\\f...\n",
       "2  Image_3.jpg  C:\\Users\\perro\\Documents\\deep_learning_final\\f...\n",
       "3  Image_4.jpg  C:\\Users\\perro\\Documents\\deep_learning_final\\f...\n",
       "4  Image_5.jpg  C:\\Users\\perro\\Documents\\deep_learning_final\\f..."
      ]
     },
     "execution_count": 36,
     "metadata": {},
     "output_type": "execute_result"
    }
   ],
   "source": [
    "test_data.head()"
   ]
  },
  {
   "cell_type": "code",
   "execution_count": 37,
   "metadata": {},
   "outputs": [
    {
     "data": {
      "application/vnd.jupyter.widget-view+json": {
       "model_id": "e68387ee0dd944ab9a4ccc3ed54f57c3",
       "version_major": 2,
       "version_minor": 0
      },
      "text/plain": [
       "HBox(children=(FloatProgress(value=0.0, max=1536.0), HTML(value='')))"
      ]
     },
     "metadata": {},
     "output_type": "display_data"
    },
    {
     "name": "stdout",
     "output_type": "stream",
     "text": [
      "\n"
     ]
    }
   ],
   "source": [
    "# Image Resizing and converting them to array for test images of folder test\n",
    "\"\"\" \n",
    "TQDM is a progress bar library. \n",
    "Inserting tqdm (or python -m tqdm)between pipes will pass \n",
    "through all stdin to stdout while printing progress to stderr\n",
    "\"\"\"\n",
    "tst_images = []\n",
    "with tqdm(total=len(test_data)) as pbar:\n",
    "    for i, file_path in enumerate(test_data.filepaths.values):\n",
    "        \n",
    "        #read image\n",
    "        img = cv2.imread(file_path,1)\n",
    "        \n",
    "        #color order is changed\n",
    "        img = cv2.cvtColor(img, cv2.COLOR_BGR2RGB)\n",
    "\n",
    "        #resize\n",
    "        #converting images to square\n",
    "        if(img.shape[0] > img.shape[1]):\n",
    "            tile_size = (int(img.shape[1]*256/img.shape[0]),256)\n",
    "        else:\n",
    "            tile_size = (256, int(img.shape[0]*256/img.shape[1]))\n",
    "\n",
    "        #centering the images\n",
    "        img = centering_image(cv2.resize(img, dsize=tile_size))\n",
    "\n",
    "        #out put 224*224px \n",
    "        img = img[16:240, 16:240]\n",
    "        tst_images.append(img)\n",
    "        pbar.update(1)\n",
    "\n",
    "tst_images = np.array(tst_images)\n",
    "tst_images = tst_images/255 # Normalization"
   ]
  },
  {
   "cell_type": "code",
   "execution_count": 48,
   "metadata": {},
   "outputs": [
    {
     "data": {
      "text/plain": [
       "(1536, 224, 224, 3)"
      ]
     },
     "execution_count": 48,
     "metadata": {},
     "output_type": "execute_result"
    }
   ],
   "source": [
    "tst_images.shape"
   ]
  },
  {
   "cell_type": "code",
   "execution_count": 49,
   "metadata": {},
   "outputs": [],
   "source": [
    "model = load_model(path + '\\\\final.h5')"
   ]
  },
  {
   "cell_type": "code",
   "execution_count": 50,
   "metadata": {},
   "outputs": [],
   "source": [
    "target = model.predict(tst_images)"
   ]
  },
  {
   "cell_type": "code",
   "execution_count": 51,
   "metadata": {},
   "outputs": [],
   "source": [
    "names= ['with_mask', 'without_mask']"
   ]
  },
  {
   "cell_type": "code",
   "execution_count": 52,
   "metadata": {},
   "outputs": [],
   "source": [
    "real_names1 = []\n",
    "for i in range(0,1536):\n",
    "    real_names1.append(str(\"'\")+names[np.argmax(target[i])]+str(\"'\"))\n"
   ]
  },
  {
   "cell_type": "code",
   "execution_count": 53,
   "metadata": {},
   "outputs": [
    {
     "data": {
      "text/html": [
       "<div>\n",
       "<style scoped>\n",
       "    .dataframe tbody tr th:only-of-type {\n",
       "        vertical-align: middle;\n",
       "    }\n",
       "\n",
       "    .dataframe tbody tr th {\n",
       "        vertical-align: top;\n",
       "    }\n",
       "\n",
       "    .dataframe thead th {\n",
       "        text-align: right;\n",
       "    }\n",
       "</style>\n",
       "<table border=\"1\" class=\"dataframe\">\n",
       "  <thead>\n",
       "    <tr style=\"text-align: right;\">\n",
       "      <th></th>\n",
       "      <th>target</th>\n",
       "    </tr>\n",
       "  </thead>\n",
       "  <tbody>\n",
       "    <tr>\n",
       "      <th>0</th>\n",
       "      <td>'without_mask'</td>\n",
       "    </tr>\n",
       "    <tr>\n",
       "      <th>1</th>\n",
       "      <td>'with_mask'</td>\n",
       "    </tr>\n",
       "    <tr>\n",
       "      <th>2</th>\n",
       "      <td>'without_mask'</td>\n",
       "    </tr>\n",
       "    <tr>\n",
       "      <th>3</th>\n",
       "      <td>'without_mask'</td>\n",
       "    </tr>\n",
       "    <tr>\n",
       "      <th>4</th>\n",
       "      <td>'with_mask'</td>\n",
       "    </tr>\n",
       "  </tbody>\n",
       "</table>\n",
       "</div>"
      ],
      "text/plain": [
       "           target\n",
       "0  'without_mask'\n",
       "1     'with_mask'\n",
       "2  'without_mask'\n",
       "3  'without_mask'\n",
       "4     'with_mask'"
      ]
     },
     "execution_count": 53,
     "metadata": {},
     "output_type": "execute_result"
    }
   ],
   "source": [
    "final_pd = pd.DataFrame(real_names1)\n",
    "final_pd = final_pd.astype(str)\n",
    "final_pd.index= test_data.index\n",
    "final_pd.columns= ['target']\n",
    "final_pd.head()"
   ]
  },
  {
   "cell_type": "code",
   "execution_count": 54,
   "metadata": {},
   "outputs": [
    {
     "data": {
      "text/html": [
       "<div>\n",
       "<style scoped>\n",
       "    .dataframe tbody tr th:only-of-type {\n",
       "        vertical-align: middle;\n",
       "    }\n",
       "\n",
       "    .dataframe tbody tr th {\n",
       "        vertical-align: top;\n",
       "    }\n",
       "\n",
       "    .dataframe thead th {\n",
       "        text-align: right;\n",
       "    }\n",
       "</style>\n",
       "<table border=\"1\" class=\"dataframe\">\n",
       "  <thead>\n",
       "    <tr style=\"text-align: right;\">\n",
       "      <th></th>\n",
       "      <th>filename</th>\n",
       "      <th>filepaths</th>\n",
       "      <th>label</th>\n",
       "    </tr>\n",
       "  </thead>\n",
       "  <tbody>\n",
       "    <tr>\n",
       "      <th>0</th>\n",
       "      <td>Image_1.jpg</td>\n",
       "      <td>C:\\Users\\perro\\Documents\\deep_learning_final\\f...</td>\n",
       "      <td>'without_mask'</td>\n",
       "    </tr>\n",
       "    <tr>\n",
       "      <th>1</th>\n",
       "      <td>Image_2.jpg</td>\n",
       "      <td>C:\\Users\\perro\\Documents\\deep_learning_final\\f...</td>\n",
       "      <td>'with_mask'</td>\n",
       "    </tr>\n",
       "    <tr>\n",
       "      <th>2</th>\n",
       "      <td>Image_3.jpg</td>\n",
       "      <td>C:\\Users\\perro\\Documents\\deep_learning_final\\f...</td>\n",
       "      <td>'without_mask'</td>\n",
       "    </tr>\n",
       "    <tr>\n",
       "      <th>3</th>\n",
       "      <td>Image_4.jpg</td>\n",
       "      <td>C:\\Users\\perro\\Documents\\deep_learning_final\\f...</td>\n",
       "      <td>'without_mask'</td>\n",
       "    </tr>\n",
       "    <tr>\n",
       "      <th>4</th>\n",
       "      <td>Image_5.jpg</td>\n",
       "      <td>C:\\Users\\perro\\Documents\\deep_learning_final\\f...</td>\n",
       "      <td>'with_mask'</td>\n",
       "    </tr>\n",
       "  </tbody>\n",
       "</table>\n",
       "</div>"
      ],
      "text/plain": [
       "      filename                                          filepaths  \\\n",
       "0  Image_1.jpg  C:\\Users\\perro\\Documents\\deep_learning_final\\f...   \n",
       "1  Image_2.jpg  C:\\Users\\perro\\Documents\\deep_learning_final\\f...   \n",
       "2  Image_3.jpg  C:\\Users\\perro\\Documents\\deep_learning_final\\f...   \n",
       "3  Image_4.jpg  C:\\Users\\perro\\Documents\\deep_learning_final\\f...   \n",
       "4  Image_5.jpg  C:\\Users\\perro\\Documents\\deep_learning_final\\f...   \n",
       "\n",
       "            label  \n",
       "0  'without_mask'  \n",
       "1     'with_mask'  \n",
       "2  'without_mask'  \n",
       "3  'without_mask'  \n",
       "4     'with_mask'  "
      ]
     },
     "execution_count": 54,
     "metadata": {},
     "output_type": "execute_result"
    }
   ],
   "source": [
    "# Add the prediction column\n",
    "test_data['label'] = real_names1\n",
    "test_data.head()"
   ]
  },
  {
   "cell_type": "code",
   "execution_count": 56,
   "metadata": {},
   "outputs": [],
   "source": [
    "# save as CSV file\n",
    "final_pd.to_csv(path + \"\\\\prediction.csv\",index=False, header=False)"
   ]
  },
  {
   "cell_type": "code",
   "execution_count": null,
   "metadata": {},
   "outputs": [],
   "source": []
  },
  {
   "cell_type": "code",
   "execution_count": null,
   "metadata": {},
   "outputs": [],
   "source": []
  }
 ],
 "metadata": {
  "kernelspec": {
   "display_name": "Python 3",
   "language": "python",
   "name": "python3"
  },
  "language_info": {
   "codemirror_mode": {
    "name": "ipython",
    "version": 3
   },
   "file_extension": ".py",
   "mimetype": "text/x-python",
   "name": "python",
   "nbconvert_exporter": "python",
   "pygments_lexer": "ipython3",
   "version": "3.8.3"
  }
 },
 "nbformat": 4,
 "nbformat_minor": 4
}
